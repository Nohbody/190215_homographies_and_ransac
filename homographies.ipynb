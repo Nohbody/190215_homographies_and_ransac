{
 "cells": [
  {
   "cell_type": "markdown",
   "metadata": {},
   "source": [
    "# Image Stitching:  The final step\n",
    "Reading: Szeliski 6.1, 9.1\n",
    "\n",
    "## Homographies\n",
    "\n",
    "We have successfully made our way through all the steps of image stitching save one.  We have detected keypoints from two images (called image 1 and image 2), generated descriptors, matched them together, and now all we need to do is to determine the way in which we need to move one image (let's call it image 2) such that its pixel intensity information is in *the same coordinate system as image 1*.  \n",
    "\n",
    "As it turns out, under a very specific assumption about the motion of the camera between images, this transformation is a linear operation called a *homography*.  To see exactly what this operation does, let's reference the following image:\n",
    "\n",
    "<img src=\"homography.jpg\">\n",
    "\n",
    "In this image, the blue points are *things* out in the real world, perhaps ones that we've identified as corners and come up with descriptors for.  We'll assume that we've already solved the problem of correspondence: if we see a corner in both images, we have successfully matched it.  These corners reflect light and send out a ray (blue line) which impacts the effective focal plane of the camera.  In the figure, these impacts are denoted by an X in a color corresponding to the image whose focal plane was impacted.  What we need to do is to determine where corners that impacted the second image would have impacted the focal plane of the first image *if that first image had its sensor synthetically extended*, i.e. what are the coordinates of that black question mark?  We can determine this mapping by looking at the points for which we have correspondences.\n",
    "\n",
    "As it turns out, the transformation from one 2D plane embedded in 3D to another obeys a linear transformation called a *homography*.  A homography is a linear transformation that preserves straight lines (and nothing else).  It occupies the most expressive position on a continuum that ranges from simple rotation (governed by one parameter), to rotation-translations (which preserve scale and relative orientation and position of points), to affine transformations (which preserve scale and parallelity), to homographies (which only preserve straight lines).  We can define it as\n",
    "$$\n",
    "\\begin{bmatrix} x' \\\\ y' \\\\ w' \\end{bmatrix} = \\begin{bmatrix} h_{11} & h_{12} & h_{13}\\\\\n",
    "                                                               h_{21} & h_{22} & h_{23}\\\\\n",
    "                                                               h_{31} & h_{32} & h_{33} \\end{bmatrix} \n",
    "                                                               \\begin{bmatrix} u \\\\\n",
    "                                                                               v \\\\\n",
    "                                                                               1 \\end{bmatrix}\n",
    "$$                                                               \n",
    "Note that this makes use of generalized coordinates: after the transformation, we need to divide: $u' = x'/w'$ and $v' = y'/w'$.  What does a homography do?  Here is an example of a random homography on the unit square:\n"
   ]
  },
  {
   "cell_type": "code",
   "execution_count": 9,
   "metadata": {},
   "outputs": [
    {
     "data": {
      "image/png": "[encoded data removed]",
      "text/plain": [
       "<Figure size 432x288 with 1 Axes>"
      ]
     },
     "metadata": {
      "needs_background": "light"
     },
     "output_type": "display_data"
    }
   ],
   "source": [
    "import numpy as np\n",
    "import matplotlib.pyplot as plt\n",
    "\n",
    "\n",
    "X = np.array([[0,0,1],\n",
    "              [1,0,1],\n",
    "              [1,1,1],\n",
    "              [0,1,1],\n",
    "              [0,0,1]])\n",
    "\n",
    "H = np.random.rand(3,3)\n",
    "#H/= H[2,2]\n",
    "\n",
    "Xprime = (H @ X.T).T\n",
    "Xprime/=Xprime[:,2][:,np.newaxis]\n",
    "\n",
    "plt.plot(X[:,0],X[:,1],'g-')\n",
    "plt.plot(Xprime[:,0],Xprime[:,1],'b-')\n",
    "plt.show()"
   ]
  },
  {
   "cell_type": "markdown",
   "metadata": {},
   "source": [
    "How do we solve for this thing given our point correspondences?  We need an equation for the eight unknowns in the matrix $H$.  By doing some algebra, we find that we can generate a linear system of equations for the coefficients of $H$:\n",
    "$$\n",
    "A \\vec{h} = 0,\n",
    "$$\n",
    "where\n",
    "$$\n",
    "\\vec{h} = \\begin{bmatrix} h_{11}, h_{12}, \\ldots, h_{32}, h_{33} \\end{bmatrix}\n",
    "$$\n",
    "and \n",
    "$$\n",
    "A = \\begin{bmatrix}  0 & 0 & 0 & -u_1 & -v_1 & -1 & v_1' u_1 & v'_1 v_1& v'_1 \\\\\n",
    "                     u_1 & v_1 & 1 &  0   & 0    &  0 & -u'_1 u_1 & -u'_1 v_1 & -u'_1 \\\\\n",
    "                     \\vdots & \\ddots & & & & & & & \\vdots \\\\\n",
    "                     0 & 0 & 0 & -u_n & -v_n & -1 & v_n' u_n & v'_n v_n& v'_n \\\\\n",
    "                     u_n & v_n & 1 &  0   & 0    &  0 & -u'_n u_n & -u'_n v_n & -u'_n \\end{bmatrix}\n",
    "$$                     "
   ]
  },
  {
   "cell_type": "markdown",
   "metadata": {},
   "source": [
    "Note that for this matrix problem to be well-posed, $n$ (the number of correspondences) must equal 4.  Even still, this system is singular: this is because $h$ is only really defined up to a constant.  Thus, the entries of $h$ are in the nullspace of $A$.  Fortunately, finding this nullspace is easy: take the singular value decomposition of $A$, i.e.\n",
    "$$\n",
    "SVD(A) = U \\Sigma V^T.\n",
    "$$\n",
    "If the singular values (the entries in $\\Sigma$) are in descending order (as they usually are), then the nullspace of $A$ is given by the corresponding vector in $V$, or the bottom row in $V^T$.  \n",
    "\n",
    "As it turns out this SVD-based method for finding the nullspace is also applicable when $n>4$, e.g. we have more correspondences than the requisite 4.  In the case of this overdetermined system, there won'd be a nullspace, but the optimal solution for the homography matrix is still given by the column in $V$ that corresponds to the smallest singular valuem, and there is no change to the routine (except that $A$ has more rows). \n",
    "\n",
    "**Your assignment is to generate code that takes a set of point correspondences $\\{(u_i,v_i, u'_i,v'_i)\\}$ for $i$ in $n$, and solves for the homography matrix between them.  You can directly apply this to the matches that you've found via your stitching code so far, but you will find that this procedure is extremely sensitive to outliers.  To determine if your code is working properly, use the synthetic correspondences generated in the homography demo above to recover the matrix $H$ from $X$ and $X'$.**"
   ]
  },
  {
   "cell_type": "code",
   "execution_count": 39,
   "metadata": {},
   "outputs": [],
   "source": [
    "def homography(pts1, pts2):\n",
    "    # split coordinates into lists\n",
    "    u1 = pts1[:,0]\n",
    "    v1 = pts1[:,1]\n",
    "    u2 = pts2[:,0]\n",
    "    v2 = pts2[:,1]\n",
    "    \n",
    "    # initialize A matrix\n",
    "    n = len(pts1)\n",
    "    A = np.zeros(shape=(2*n,9))\n",
    "    i = 0\n",
    "    \n",
    "    # add rows for each point match\n",
    "    for j in range(0, 2*n, 2):\n",
    "        A[j] = [0, 0, 0, -u1[i], -v1[i], -1, v2[i]*u1[i], v2[i]*v1[i], v2[i]]\n",
    "        A[j+1] = [u1[i], v1[i], 1, 0, 0, 0, -u2[i]*u1[i], -u2[i]*v1[i], -u2[i]]\n",
    "        i += 1\n",
    "    \n",
    "    # print resulting matrix\n",
    "    print(A, '\\n')\n",
    "\n",
    "    # solve the svd for the nullspace\n",
    "    U,Sigma,Vt = np.linalg.svd(A)\n",
    "    \n",
    "    # return nullspace\n",
    "    return Vt[-1]                                                                     "
   ]
  },
  {
   "cell_type": "code",
   "execution_count": 40,
   "metadata": {},
   "outputs": [
    {
     "name": "stdout",
     "output_type": "stream",
     "text": [
      "[[ 0.          0.          0.          0.          0.         -1.\n",
      "   0.          0.          2.41086453]\n",
      " [ 0.          0.          1.          0.          0.          0.\n",
      "  -0.         -0.         -1.03146918]\n",
      " [ 0.          0.          0.         -1.          0.         -1.\n",
      "   1.73497403  0.          1.73497403]\n",
      " [ 1.          0.          1.          0.          0.          0.\n",
      "  -0.41825402 -0.         -0.41825402]\n",
      " [ 0.          0.          0.         -1.         -1.         -1.\n",
      "   1.32839264  1.32839264  1.32839264]\n",
      " [ 1.          1.          1.          0.          0.          0.\n",
      "  -0.84727022 -0.84727022 -0.84727022]\n",
      " [ 0.          0.          0.          0.         -1.         -1.\n",
      "   0.          1.34340477  1.34340477]\n",
      " [ 0.          1.          1.          0.          0.          0.\n",
      "  -0.         -1.32361137 -1.32361137]\n",
      " [ 0.          0.          0.          0.          0.         -1.\n",
      "   0.          0.          2.41086453]\n",
      " [ 0.          0.          1.          0.          0.          0.\n",
      "  -0.         -0.         -1.03146918]] \n",
      "\n",
      "[[0 0 1]\n",
      " [1 0 1]\n",
      " [1 1 1]\n",
      " [0 1 1]\n",
      " [0 0 1]] \n",
      "\n",
      "[[1.03146918 2.41086453 1.        ]\n",
      " [0.41825402 1.73497403 1.        ]\n",
      " [0.84727022 1.32839264 1.        ]\n",
      " [1.32361137 1.34340477 1.        ]\n",
      " [1.03146918 2.41086453 1.        ]] \n",
      "\n",
      "[[0.01474926 0.92428952 0.37599832]\n",
      " [0.7420485  0.44090734 0.87882512]\n",
      " [0.56970813 0.61785191 0.36452696]] \n",
      "\n",
      "[0.00805542 0.50480796 0.20535443 0.4052756  0.240805   0.47997722\n",
      " 0.31115056 0.33744466 0.19908925] \n",
      "\n"
     ]
    }
   ],
   "source": [
    "X = np.array([[0,0,1],\n",
    "              [1,0,1],\n",
    "              [1,1,1],\n",
    "              [0,1,1],\n",
    "              [0,0,1]])\n",
    "\n",
    "H = np.random.rand(3,3)\n",
    "#H/= H[2,2]\n",
    "\n",
    "Xprime = (H @ X.T).T\n",
    "Xprime/=Xprime[:,2][:,np.newaxis]\n",
    "\n",
    "H_test = homography(X, Xprime)\n",
    "\n",
    "print(X, '\\n')\n",
    "print(Xprime, '\\n')\n",
    "print(H, '\\n')\n",
    "print(H_test, '\\n')"
   ]
  },
  {
   "cell_type": "code",
   "execution_count": 46,
   "metadata": {},
   "outputs": [
    {
     "name": "stdout",
     "output_type": "stream",
     "text": [
      "[1.83097255 1.83097255 1.83097255 1.83097255 1.83097255 1.83097255\n",
      " 1.83097255 1.83097255 1.83097255]\n"
     ]
    }
   ],
   "source": [
    "# H_test should be a constant scalar multiple of H\n",
    "print(H.ravel()/H_test)"
   ]
  },
  {
   "cell_type": "code",
   "execution_count": null,
   "metadata": {},
   "outputs": [],
   "source": []
  }
 ],
 "metadata": {
  "kernelspec": {
   "display_name": "Python 3",
   "language": "python",
   "name": "python3"
  },
  "language_info": {
   "codemirror_mode": {
    "name": "ipython",
    "version": 3
   },
   "file_extension": ".py",
   "mimetype": "text/x-python",
   "name": "python",
   "nbconvert_exporter": "python",
   "pygments_lexer": "ipython3",
   "version": "3.7.0"
  }
 },
 "nbformat": 4,
 "nbformat_minor": 2
}
